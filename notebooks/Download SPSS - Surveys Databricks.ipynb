{
 "cells": [
  {
   "cell_type": "code",
   "execution_count": 1,
   "metadata": {
    "application/vnd.databricks.v1+cell": {
     "cellMetadata": {
      "byteLimit": 2048000,
      "rowLimit": 10000
     },
     "inputWidgets": {},
     "nuid": "fe78fd62-7c4a-4c76-a4e1-7d1f1539667c",
     "showTitle": false,
     "title": ""
    },
    "executionCancelledAt": null,
    "executionTime": 44,
    "lastExecutedAt": 1704564804659,
    "lastScheduledRunId": null,
    "lastSuccessfullyExecutedCode": "from selenium import webdriver\nfrom selenium.webdriver.common.keys import Keys\nfrom selenium.webdriver.common.by import By\nfrom selenium.webdriver.support.wait import WebDriverWait\nfrom selenium.webdriver.support import expected_conditions as EC\nimport pandas as pd\nimport wget\nimport requests"
   },
   "outputs": [
    {
     "data": {
      "text/plain": [
       "True"
      ]
     },
     "execution_count": 1,
     "metadata": {},
     "output_type": "execute_result"
    }
   ],
   "source": [
    "from selenium import webdriver\n",
    "from selenium.webdriver.common.keys import Keys\n",
    "from selenium.webdriver.common.by import By\n",
    "from selenium.webdriver.support.wait import WebDriverWait\n",
    "from selenium.webdriver.support import expected_conditions as EC\n",
    "\n",
    "import pandas as pd\n",
    "import numpy as np\n",
    "import pyreadstat\n",
    "\n",
    "import requests\n",
    "import time\n",
    "import wget\n",
    "import os\n",
    "\n",
    "from dotenv import load_dotenv\n",
    "load_dotenv()"
   ]
  },
  {
   "cell_type": "code",
   "execution_count": 2,
   "metadata": {
    "application/vnd.databricks.v1+cell": {
     "cellMetadata": {
      "byteLimit": 2048000,
      "rowLimit": 10000
     },
     "inputWidgets": {},
     "nuid": "05817b8f-af69-40e3-a914-fa6f353de3ef",
     "showTitle": false,
     "title": ""
    },
    "executionCancelledAt": null,
    "executionTime": 52,
    "lastExecutedAt": 1704564818785,
    "lastScheduledRunId": null,
    "lastSuccessfullyExecutedCode": "def sign_in_manager(driver : webdriver, email : str, password : str):\n    # Go to the SynoInt login page\n    driver.get(\"https://manager.synoint.com/login\")\n    \n    # Enter the credentials and sign in\n    driver.find_element(By.ID, \"email\").send_keys(email)\n    driver.find_element(By.ID, \"password\").send_keys(password)\n    driver.find_element(By.CSS_SELECTOR, \"button[type='submit']\").click()"
   },
   "outputs": [],
   "source": [
    "def sign_in_manager(driver : webdriver, email : str, password : str):\n",
    "    # Go to the SynoInt login page\n",
    "    driver.get(\"https://manager.synoint.com/login\")\n",
    "    \n",
    "    # Enter the credentials and sign in\n",
    "    driver.find_element(By.ID, \"email\").send_keys(email)\n",
    "    driver.find_element(By.ID, \"password\").send_keys(password)\n",
    "    driver.find_element(By.CSS_SELECTOR, \"button[type='submit']\").click()"
   ]
  },
  {
   "cell_type": "markdown",
   "metadata": {
    "application/vnd.databricks.v1+cell": {
     "cellMetadata": {},
     "inputWidgets": {},
     "nuid": "c9e490fa-fe0e-4bde-9924-d41ca1a3f7cc",
     "showTitle": false,
     "title": ""
    }
   },
   "source": [
    "Get the survey list assigned to the project"
   ]
  },
  {
   "cell_type": "code",
   "execution_count": 3,
   "metadata": {
    "application/vnd.databricks.v1+cell": {
     "cellMetadata": {
      "byteLimit": 2048000,
      "rowLimit": 10000
     },
     "inputWidgets": {},
     "nuid": "82358e32-f4e0-4291-992d-75772f3b1ecd",
     "showTitle": false,
     "title": ""
    },
    "executionCancelledAt": null,
    "executionTime": 55,
    "lastExecutedAt": 1704564818841,
    "lastScheduledRunId": null,
    "lastSuccessfullyExecutedCode": "def get_survey_list(driver : webdriver, tracker_id : int):\n    # Go to the project\n    driver.get(f\"https://manager.synoint.com/en/projects/{tracker_id}\")\n\n    # Wait until survey list loader is out\n    element = WebDriverWait(driver, 10).until_not(EC.presence_of_element_located((By.CSS_SELECTOR, \"td.dataTables_empty\")))\n\n    # Read the table with the survey list\n    survey_list = pd.read_html( driver.find_element(By.ID, \"project-syno__surveys\").get_attribute(\"outerHTML\") )[0]\n    \n    # Return the dataframe with the survey list\n    return survey_list"
   },
   "outputs": [],
   "source": [
    "def get_survey_list(driver : webdriver, tracker_id : int):\n",
    "    # Go to the project\n",
    "    driver.get(f\"https://manager.synoint.com/en/projects/{tracker_id}\")\n",
    "\n",
    "    # Wait until survey list loader is out\n",
    "    element = WebDriverWait(driver, 10).until_not(EC.presence_of_element_located((By.CSS_SELECTOR, \"td.dataTables_empty\")))\n",
    "\n",
    "    # Read the table with the survey list\n",
    "    survey_list = pd.read_html( driver.find_element(By.ID, \"project-syno__surveys\").get_attribute(\"outerHTML\") )[0]\n",
    "    \n",
    "    # Return the dataframe with the survey list\n",
    "    return survey_list"
   ]
  },
  {
   "cell_type": "markdown",
   "metadata": {
    "application/vnd.databricks.v1+cell": {
     "cellMetadata": {},
     "inputWidgets": {},
     "nuid": "100dc159-f22d-428b-9538-06d22ba9e7f9",
     "showTitle": false,
     "title": ""
    }
   },
   "source": [
    "Generate a new raw data file (SPSS)"
   ]
  },
  {
   "cell_type": "code",
   "execution_count": 4,
   "metadata": {
    "application/vnd.databricks.v1+cell": {
     "cellMetadata": {
      "byteLimit": 2048000,
      "rowLimit": 10000
     },
     "inputWidgets": {},
     "nuid": "3423759c-a1aa-4489-851f-d5d87ccad609",
     "showTitle": false,
     "title": ""
    },
    "executionCancelledAt": null,
    "executionTime": 54,
    "lastExecutedAt": 1704564818897,
    "lastScheduledRunId": null,
    "lastSuccessfullyExecutedCode": "def generate_raw_data(driver : webdriver, survey_id : int):\n    # Go to the results section\n    driver.get(f\"https://manager.synoint.com/en/syno-survey/surveys/{survey_id}/results\")\n    # Open the report modal\n    driver.find_element(By.CSS_SELECTOR, \".file-export-form__button\").click()\n    driver.implicitly_wait(2)\n    # File format: Raw data\n    driver.find_element(By.CSS_SELECTOR, \"label[for='export_form_fileFormat_1']\").click()\n    # Type: SPSS\n    driver.find_element(By.CSS_SELECTOR, \"label[for='export_form_fileType_3']\").click()\n    # Waiter until loads exportation options for SPSS\n    element = WebDriverWait(driver, 10).until_not(EC.presence_of_element_located((By.CSS_SELECTOR, \".file-export-preloader__holder\")))\n    # Completes only: Yes\n    driver.find_element(By.CSS_SELECTOR, \"label[for='export_form_completesOnly']\").click()\n    # Include IP: Yes\n    driver.find_element(By.CSS_SELECTOR, \"label[for='export_form_includeIp']\").click()\n    # Include panelist Id: Yes\n    driver.find_element(By.CSS_SELECTOR, \"label[for='export_form_includePanelistId']\").click()\n    # Include indentity Id: Yes\n    driver.find_element(By.CSS_SELECTOR, \"label[for='export_form_includeIdentityId']\").click()\n    \n    # Click the export button\n    driver.find_element(By.CSS_SELECTOR, \".file-export__submit-button\").click()\n    \n    print(f\"Report for survey {survey_id} is being generated\")"
   },
   "outputs": [],
   "source": [
    "def generate_raw_data(driver : webdriver, survey_id : int):\n",
    "    # Go to the results section\n",
    "    driver.get(f\"https://manager.synoint.com/en/syno-survey/surveys/{survey_id}/results\")\n",
    "    # Open the report modal\n",
    "    driver.find_element(By.CSS_SELECTOR, \".file-export-form__button\").click()\n",
    "    driver.implicitly_wait(3)\n",
    "    # File format: Raw data\n",
    "    driver.find_element(By.CSS_SELECTOR, \"label[for='export_form_fileFormat_1']\").click()\n",
    "    time.sleep(0.5)\n",
    "    # Type: SPSS\n",
    "    driver.find_element(By.CSS_SELECTOR, \"label[for='export_form_fileType_3']\").click()\n",
    "    time.sleep(0.5)\n",
    "    # Waiter until loads exportation options for SPSS\n",
    "    element = WebDriverWait(driver, 10).until_not(EC.presence_of_element_located((By.CSS_SELECTOR, \".file-export-preloader__holder\")))\n",
    "    # Completes only: Yes\n",
    "    driver.find_element(By.CSS_SELECTOR, \"label[for='export_form_completesOnly']\").click()\n",
    "    time.sleep(0.5)\n",
    "    # Include IP: Yes\n",
    "    driver.find_element(By.CSS_SELECTOR, \"label[for='export_form_includeIp']\").click()\n",
    "    time.sleep(0.5)\n",
    "    # Include panelist Id: Yes\n",
    "    driver.find_element(By.CSS_SELECTOR, \"label[for='export_form_includePanelistId']\").click()\n",
    "    time.sleep(0.5)\n",
    "    # Include indentity Id: Yes\n",
    "    driver.find_element(By.CSS_SELECTOR, \"label[for='export_form_includeIdentityId']\").click()\n",
    "    time.sleep(2)\n",
    "    # Click the export button\n",
    "    driver.find_element(By.CSS_SELECTOR, \".file-export__submit-button\").click()\n",
    "\n",
    "    # Checks if element exists\n",
    "    token_error = driver.find_elements(By.CSS_SELECTOR, \".export__form > div.pt-2 > span.alert\")\n",
    "    # If there is an error with the token form, resubmit the form again\n",
    "    if len(token_error) > 0:\n",
    "        print(\"Error token found!\\t Resubmitting form again\")\n",
    "        driver.find_element(By.CSS_SELECTOR, \".file-export__submit-button\").click()\n",
    "    \n",
    "    print(f\"Report for survey {survey_id} is being generated\")"
   ]
  },
  {
   "cell_type": "markdown",
   "metadata": {
    "application/vnd.databricks.v1+cell": {
     "cellMetadata": {},
     "inputWidgets": {},
     "nuid": "98ea004d-faf0-40ee-ba18-f6c74c7facf5",
     "showTitle": false,
     "title": ""
    },
    "executionCancelledAt": null,
    "executionTime": 10,
    "lastExecutedAt": 1704556976812,
    "lastScheduledRunId": null,
    "lastSuccessfullyExecutedCode": "Download the generated raw data (SPSS) in a local directory"
   },
   "source": [
    "Download the generated raw data (SPSS) in a local directory"
   ]
  },
  {
   "cell_type": "code",
   "execution_count": 5,
   "metadata": {
    "application/vnd.databricks.v1+cell": {
     "cellMetadata": {
      "byteLimit": 2048000,
      "rowLimit": 10000
     },
     "inputWidgets": {},
     "nuid": "35b64dee-0591-40c0-a506-8650de9eb3a4",
     "showTitle": false,
     "title": ""
    }
   },
   "outputs": [],
   "source": [
    "def download_raw_data(driver : webdriver, survey_id : int):\n",
    "     # Go to the generated reports section\n",
    "    driver.get(f\"https://manager.synoint.com/en/syno-survey/export/{survey_id}\")\n",
    "    # Waiter until loads exportation files list\n",
    "    element = WebDriverWait(driver, 5).until_not(EC.presence_of_element_located((By.CSS_SELECTOR, \".file-export-preloader__holder\")))\n",
    "    \n",
    "    try:\n",
    "        is_file_exported = WebDriverWait(driver, 5).until_not(EC.presence_of_element_located((By.CSS_SELECTOR, \"table > tbody > tr:nth-child(1) > td:nth-child(9) > i\")))\n",
    "        downloable_file = driver.find_element(By.CSS_SELECTOR, \"table > tbody > tr:nth-child(1) > td:nth-child(9) > div\").get_attribute(\"data-content\")\n",
    "        filename = wget.download(downloable_file, os.environ[\"DATA_DIR\"])\n",
    "        print(f\"File {filename} was downloaded\")\n",
    "    except:\n",
    "        print(\"Reports is still being generated, trying again...\")\n",
    "        download_raw_data(driver, survey_id) "
   ]
  },
  {
   "cell_type": "code",
   "execution_count": 6,
   "metadata": {
    "application/vnd.databricks.v1+cell": {
     "cellMetadata": {
      "byteLimit": 2048000,
      "rowLimit": 10000
     },
     "inputWidgets": {},
     "nuid": "32758b07-6313-46b2-b8bb-576603e0ef1b",
     "showTitle": false,
     "title": ""
    },
    "executionCancelledAt": null,
    "executionTime": 71265,
    "lastExecutedAt": 1704564890219,
    "lastScheduledRunId": null,
    "lastSuccessfullyExecutedCode": "sign_in_manager(driver, \"kdi@synoint.com\", \"r<JeLZ3}>4}TmkG{\")\nsurvey_list = get_survey_list(driver, 4700)\n\n# Generate and download the raw data for all surveys in 4700\nfor survey_id in survey_list[\"Id\"]:\n    generate_raw_data(driver, survey_id)\n    download_raw_data(driver, survey_id)",
    "outputsMetadata": {
     "0": {
      "height": 37,
      "type": "stream"
     }
    }
   },
   "outputs": [
    {
     "name": "stdout",
     "output_type": "stream",
     "text": [
      "Removing file data/Raw Data 337199 2024-02-24.sav\n",
      "Removing file data/Raw Data 422493 2024-02-24.sav\n",
      "Generating report for 665730\n",
      "Report for survey 665730 is being generated\n",
      "Generating report for 174031\n",
      "Report for survey 174031 is being generated\n",
      "Generating report for 156910\n",
      "Report for survey 156910 is being generated\n",
      "Generating report for 222861\n",
      "Report for survey 222861 is being generated\n",
      "Generating report for 818418\n",
      "Report for survey 818418 is being generated\n",
      "Downloading raw data for 665730\n",
      "File data//Raw Data 665730 2024-02-24.sav was downloaded\n",
      "Downloading raw data for 174031\n",
      "File data//Raw Data 174031 2024-02-24.sav was downloaded\n",
      "Downloading raw data for 156910\n",
      "File data//Raw Data 156910 2024-02-24.sav was downloaded\n",
      "Downloading raw data for 222861\n",
      "File data//Raw Data 222861 2024-02-24.sav was downloaded\n",
      "Downloading raw data for 818418\n",
      "Reports is still being generated, trying again...\n",
      "File data//Raw Data 818418 2024-02-24.sav was downloaded\n"
     ]
    }
   ],
   "source": [
    "files = os.listdir(os.environ[\"DATA_DIR\"])\n",
    "for file in files:\n",
    "    print(f\"Removing file {os.environ['DATA_DIR'] + file}\")\n",
    "    os.remove(os.environ[\"DATA_DIR\"] + file)\n",
    "\n",
    "try:\n",
    "    # Connect to the remote webdriver\n",
    "    options = webdriver.EdgeOptions()\n",
    "    options.headless = True\n",
    "    # driver = webdriver.Edge(\"C:\\Program Files\\edgedriver_win64\\msedgedriver.exe\")\n",
    "    driver = webdriver.Remote(command_executor = os.environ[\"REMOTE_SERVER\"], options = options)\n",
    "\n",
    "    sign_in_manager(driver, os.environ[\"SYNO_EMAIL\"], os.environ[\"SYNO_PASSWORD\"])\n",
    "    survey_list = get_survey_list(driver, 4300)\n",
    "\n",
    "    # Generate and download the raw data for all surveys in 4700\n",
    "    for survey_id in survey_list[\"Id\"]:\n",
    "        print(f\"Generating report for {survey_id}\")\n",
    "        generate_raw_data(driver, survey_id)\n",
    "\n",
    "    for survey_id in survey_list[\"Id\"]:\n",
    "        print(f\"Downloading raw data for {survey_id}\")\n",
    "        download_raw_data(driver, survey_id)\n",
    "except Exception as e:\n",
    "    print(f\"Exception in webdriver: {e}\")\n",
    "finally:\n",
    "    driver.quit()"
   ]
  }
 ],
 "metadata": {
  "application/vnd.databricks.v1+notebook": {
   "dashboards": [],
   "language": "python",
   "notebookMetadata": {
    "pythonIndentUnit": 4
   },
   "notebookName": "Download SPSS - Surveys",
   "widgets": {}
  },
  "colab": {
   "name": "Welcome to DataCamp Workspaces.ipynb",
   "provenance": []
  },
  "kernelspec": {
   "display_name": "Python 3 (ipykernel)",
   "language": "python",
   "name": "python3"
  },
  "language_info": {
   "codemirror_mode": {
    "name": "ipython",
    "version": 3
   },
   "file_extension": ".py",
   "mimetype": "text/x-python",
   "name": "python",
   "nbconvert_exporter": "python",
   "pygments_lexer": "ipython3",
   "version": "3.11.0"
  }
 },
 "nbformat": 4,
 "nbformat_minor": 0
}
